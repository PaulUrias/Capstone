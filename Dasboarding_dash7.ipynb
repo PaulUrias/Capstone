{
 "cells": [
  {
   "cell_type": "code",
   "execution_count": 1,
   "metadata": {},
   "outputs": [],
   "source": [
    "import pandas as pd\n",
    "import dash\n",
    "from dash import dcc\n",
    "from dash import html\n",
    "from dash.dependencies import Input, Output\n",
    "import plotly.express as px\n",
    "import numpy as np\n"
   ]
  },
  {
   "cell_type": "code",
   "execution_count": 2,
   "metadata": {},
   "outputs": [
    {
     "data": {
      "text/html": [
       "<div>\n",
       "<style scoped>\n",
       "    .dataframe tbody tr th:only-of-type {\n",
       "        vertical-align: middle;\n",
       "    }\n",
       "\n",
       "    .dataframe tbody tr th {\n",
       "        vertical-align: top;\n",
       "    }\n",
       "\n",
       "    .dataframe thead th {\n",
       "        text-align: right;\n",
       "    }\n",
       "</style>\n",
       "<table border=\"1\" class=\"dataframe\">\n",
       "  <thead>\n",
       "    <tr style=\"text-align: right;\">\n",
       "      <th></th>\n",
       "      <th>Flight Number</th>\n",
       "      <th>Launch Site</th>\n",
       "      <th>class</th>\n",
       "      <th>Payload Mass (kg)</th>\n",
       "      <th>Booster Version</th>\n",
       "      <th>Booster Version Category</th>\n",
       "    </tr>\n",
       "  </thead>\n",
       "  <tbody>\n",
       "    <tr>\n",
       "      <th>0</th>\n",
       "      <td>1</td>\n",
       "      <td>CCAFS LC-40</td>\n",
       "      <td>0</td>\n",
       "      <td>0.0</td>\n",
       "      <td>F9 v1.0  B0003</td>\n",
       "      <td>v1.0</td>\n",
       "    </tr>\n",
       "    <tr>\n",
       "      <th>1</th>\n",
       "      <td>2</td>\n",
       "      <td>CCAFS LC-40</td>\n",
       "      <td>0</td>\n",
       "      <td>0.0</td>\n",
       "      <td>F9 v1.0  B0004</td>\n",
       "      <td>v1.0</td>\n",
       "    </tr>\n",
       "    <tr>\n",
       "      <th>2</th>\n",
       "      <td>3</td>\n",
       "      <td>CCAFS LC-40</td>\n",
       "      <td>0</td>\n",
       "      <td>525.0</td>\n",
       "      <td>F9 v1.0  B0005</td>\n",
       "      <td>v1.0</td>\n",
       "    </tr>\n",
       "    <tr>\n",
       "      <th>3</th>\n",
       "      <td>4</td>\n",
       "      <td>CCAFS LC-40</td>\n",
       "      <td>0</td>\n",
       "      <td>500.0</td>\n",
       "      <td>F9 v1.0  B0006</td>\n",
       "      <td>v1.0</td>\n",
       "    </tr>\n",
       "    <tr>\n",
       "      <th>4</th>\n",
       "      <td>5</td>\n",
       "      <td>CCAFS LC-40</td>\n",
       "      <td>0</td>\n",
       "      <td>677.0</td>\n",
       "      <td>F9 v1.0  B0007</td>\n",
       "      <td>v1.0</td>\n",
       "    </tr>\n",
       "  </tbody>\n",
       "</table>\n",
       "</div>"
      ],
      "text/plain": [
       "   Flight Number  Launch Site  class  Payload Mass (kg) Booster Version  \\\n",
       "0              1  CCAFS LC-40      0                0.0  F9 v1.0  B0003   \n",
       "1              2  CCAFS LC-40      0                0.0  F9 v1.0  B0004   \n",
       "2              3  CCAFS LC-40      0              525.0  F9 v1.0  B0005   \n",
       "3              4  CCAFS LC-40      0              500.0  F9 v1.0  B0006   \n",
       "4              5  CCAFS LC-40      0              677.0  F9 v1.0  B0007   \n",
       "\n",
       "  Booster Version Category  \n",
       "0                     v1.0  \n",
       "1                     v1.0  \n",
       "2                     v1.0  \n",
       "3                     v1.0  \n",
       "4                     v1.0  "
      ]
     },
     "execution_count": 2,
     "metadata": {},
     "output_type": "execute_result"
    }
   ],
   "source": [
    "data = pd.read_csv(r'C:\\Users\\Paul Urias\\Visual Studio Code\\Data Cience\\ADS Capston\\spacex_launch_dash.csv')\n",
    "data.head()"
   ]
  },
  {
   "cell_type": "code",
   "execution_count": 3,
   "metadata": {},
   "outputs": [
    {
     "data": {
      "text/plain": [
       "['All Sites', 'CCAFS LC-40', 'VAFB SLC-4E', 'KSC LC-39A', 'CCAFS SLC-40']"
      ]
     },
     "execution_count": 3,
     "metadata": {},
     "output_type": "execute_result"
    }
   ],
   "source": [
    "launch_sites = data['Launch Site'].unique().tolist()\n",
    "launch_sites = ['All Sites'] + launch_sites\n",
    "launch_sites"
   ]
  },
  {
   "cell_type": "markdown",
   "metadata": {},
   "source": [
    "## TASK 1: Add a Launch Site Drop-down Input Component"
   ]
  },
  {
   "cell_type": "code",
   "execution_count": 4,
   "metadata": {},
   "outputs": [
    {
     "data": {
      "text/html": [
       "\n",
       "        <iframe\n",
       "            width=\"100%\"\n",
       "            height=\"650\"\n",
       "            src=\"http://127.0.0.1:8080/\"\n",
       "            frameborder=\"0\"\n",
       "            allowfullscreen\n",
       "            \n",
       "        ></iframe>\n",
       "        "
      ],
      "text/plain": [
       "<IPython.lib.display.IFrame at 0x233002e2bd0>"
      ]
     },
     "metadata": {},
     "output_type": "display_data"
    }
   ],
   "source": [
    "app = dash.Dash(__name__)\n",
    "\n",
    "app.layout = html.Div(children=[\n",
    "    html.H1('SpaceX Launch Records Dashboard', \n",
    "        style={'textAlign': 'center', 'color': 'Red','font-size': 24}),\n",
    "\n",
    "        dcc.Dropdown(id='Launch sites dropdown',\n",
    "                     options=[\n",
    "                         {'label': i, 'value': i} for i in launch_sites],#label es lo que ve el usuario en el dropdown\n",
    "                     placeholder= 'Select a Site'), # ...continuacion...y value es como el nomnre de la variable donde se guarda lo elegido\n",
    "        \n",
    "\n",
    "        dcc.RangeSlider(id='payload-slider',\n",
    "                min=0, max=10000, step=1000,\n",
    "                marks={0: '0',10000: '10000'},\n",
    "                value=[0, 10000],\n",
    "                tooltip={\"placement\": \"bottom\", \"always_visible\": True}),\n",
    "        \n",
    "        html.Div([html.Div(id='graphs', className='chart-grid', style={'display': 'flex'})]),\n",
    "        html.Div([html.Div(id='success-pie-chart', className='chart-grid', style={'display': 'flex'})])\n",
    "        ])\n",
    "\n",
    "@app.callback(\n",
    "    Output(component_id='graphs', component_property='children'),\n",
    "    Input(component_id='Launch sites dropdown', component_property='value'))\n",
    "\n",
    "def make_graphics(dropdown_picked):\n",
    "    if dropdown_picked == launch_sites[0]:\n",
    "        succes_rate_total = data.groupby('Launch Site')['class'].mean().reset_index()\n",
    "        All_chart = dcc.Graph(\n",
    "            figure = px.pie(succes_rate_total,\n",
    "                            values='class',\n",
    "                            names='Launch Site',\n",
    "                            title='All Sites Launches Succes Rate'))\n",
    "        return html.Div(className='chart-item', children=html.Div(children=All_chart))\n",
    "    \n",
    "    elif dropdown_picked == launch_sites[1]:\n",
    "        data_site = data[data['Launch Site'] == dropdown_picked]\n",
    "        rates = data_site['class'].value_counts().reset_index()\n",
    "        chart1 = dcc.Graph(\n",
    "            figure = px.pie(rates, \n",
    "                            values='count', \n",
    "                            names='class',\n",
    "                            title= f'{dropdown_picked} Succes and failure Rates'))\n",
    "        return html.Div(className='chart-item', children=html.Div(children= chart1))\n",
    "    \n",
    "    elif dropdown_picked == launch_sites[2]:\n",
    "        data_site = data[data['Launch Site'] == dropdown_picked]\n",
    "        rates = data_site['class'].value_counts().reset_index()\n",
    "        chart2 = dcc.Graph(\n",
    "            figure = px.pie(rates, \n",
    "                            values='count', \n",
    "                            names='class',\n",
    "                            title= f'{dropdown_picked} Succes and failure Rates'))\n",
    "        return html.Div(className='chart-item', children=html.Div(children= chart2))\n",
    "    \n",
    "    elif dropdown_picked == launch_sites[3]:\n",
    "        data_site = data[data['Launch Site'] == dropdown_picked]\n",
    "        rates = data_site['class'].value_counts().reset_index()\n",
    "        chart3 = dcc.Graph(\n",
    "            figure = px.pie(rates, \n",
    "                            values='count', \n",
    "                            names='class',\n",
    "                            title= f'{dropdown_picked} Succes and failure Rates'))\n",
    "        return html.Div(className='chart-item', children=html.Div(children= chart3))\n",
    "        \n",
    "    elif dropdown_picked == launch_sites[4]:\n",
    "        data_site = data[data['Launch Site'] == dropdown_picked]\n",
    "        rates = data_site['class'].value_counts().reset_index()\n",
    "        chart4 = dcc.Graph(\n",
    "            figure = px.pie(rates, \n",
    "                            values='count', \n",
    "                            names='class',\n",
    "                            title= f'{dropdown_picked} Succes and failure Rates'))\n",
    "        return html.Div(className='chart-item', children=html.Div(children= chart4))\n",
    "    \n",
    "\n",
    "@app.callback(\n",
    "    Output(component_id='success-pie-chart', component_property='children'), \n",
    "    [Input(component_id='Launch sites dropdown', component_property='value'), \n",
    "     Input(component_id='payload-slider', component_property='value')])\n",
    "\n",
    "def make_scatter_range(dropdown_picked, range_payload): \n",
    "    lower, higher = range_payload\n",
    "    if dropdown_picked == launch_sites[0]:\n",
    "        chart5 = dcc.Graph(\n",
    "            figure= px.scatter(data, \n",
    "                               x= 'Payload Mass (kg)', y= 'class',\n",
    "                               range_x= [lower, higher],\n",
    "                               color=\"Booster Version Category\",\n",
    "                               width=1600, height=500,\n",
    "                               title='Correlation between Payload and Success for all Sites'))\n",
    "        return html.Div(className='chart-item', children=html.Div(children= chart5))\n",
    "    \n",
    "    elif dropdown_picked != launch_sites[0]:\n",
    "        data_site = data[data['Launch Site'] == dropdown_picked]\n",
    "        chart6 = dcc.Graph(\n",
    "            figure = px.scatter(data_site, \n",
    "                                x= 'Payload Mass (kg)', y= 'class',\n",
    "                                range_x= [lower, higher],\n",
    "                                color=\"Booster Version Category\",\n",
    "                                width=1600, height=500,\n",
    "                                title=f'Correlation between Payload and Success for {dropdown_picked} Site'))\n",
    "        return html.Div(className='chart-item', children=html.Div(children= chart6))\n",
    "\n",
    "if __name__ == '__main__':     #COMO LA FUNCION make_scatter_range CUBRE == a All SITES y elif NO IGUAL A ALL SITES\n",
    "    app.run(port=8080)         #PARA QUE NO APAREZCA LA GRAFICA VACIA HABRA QUE REPETIR EL CODIGO DE LOS ELIFS PARA CADA LAUNCH SITE COMO LA FUNC make_graphics"
   ]
  },
  {
   "attachments": {
    "image.png": {
     "image/png": "[encoded data removed]"
    }
   },
   "cell_type": "markdown",
   "metadata": {},
   "source": [
    "![image.png](attachment:image.png)"
   ]
  },
  {
   "cell_type": "markdown",
   "metadata": {},
   "source": []
  }
 ],
 "metadata": {
  "kernelspec": {
   "display_name": "Pandas",
   "language": "python",
   "name": "python3"
  },
  "language_info": {
   "codemirror_mode": {
    "name": "ipython",
    "version": 3
   },
   "file_extension": ".py",
   "mimetype": "text/x-python",
   "name": "python",
   "nbconvert_exporter": "python",
   "pygments_lexer": "ipython3",
   "version": "3.11.9"
  }
 },
 "nbformat": 4,
 "nbformat_minor": 2
}
